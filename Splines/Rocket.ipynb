{
 "cells": [
  {
   "cell_type": "markdown",
   "metadata": {},
   "source": [
    "# Cubic spline interpolation application example\n",
    "\n",
    "From udemy:[https://www.udemy.com/course/cubic-spline-interpolation-with-examples-in-python/learn/lecture/7908270#overview] \n",
    "\n",
    "This notebook demonstrates how to use cubic spline interpolation for solving a specific problem. It provides all pieces of code to do your own calculations using cubic splines with *(generalized) natural*, *clamped*, and *not-a-knot* boundary conditions.\n",
    "\n",
    "\n",
    "## The task\n",
    "\n",
    "After launch, the velocity of a rocket/spacecraft is measured at certain times as given in the table below.\n",
    "\n",
    "|time after launch [s] | velocity [m/s]|\n",
    "|:---:|:---:|\n",
    "| 0 | 0|\n",
    "|10 | 227.04|\n",
    "|15 | 362.78|\n",
    "|20 | 517.35|\n",
    "|22.5 | 602.97|\n",
    "|30 | 901.67|\n",
    "\n",
    "- What is the spacecraft's velocity at 16 seconds after launch?\n",
    "- What is the acceleration / g force acting on the astronauts 16 seconds after launch?\n",
    "- What is the travelled distance between 11 seconds and 16 seconds after launch?\n",
    "\n",
    "## How to find the answers?\n",
    "\n",
    "- Enter the data\n",
    "- Define functions for later use (may be put into a module, too...)\n",
    "  - `abcd(yk, hk, yppk)` calculates all the coefficients $a_k,b_k,c_k,d_k$ from the input data and the $y_k''$\n",
    "  - `S(x, a, b, c, d, xk)`, `Sp(x, b, c, d, xk)`, `Spp(x, c, d, xk)` evaluate the spline and its first and second derivatives at $x$\n",
    "  - `Sint(xstart, xend, a, b, c, d, xk)` calculates the definite integral \\begin{equation}\n",
    "\\int_{x_\\mathrm{start}}^{x_\\mathrm{end}}S(x)\\,\\mathrm{d}x = \\left[ ax+\\frac{1}{2}bx^2+\\frac{1}{3}cx^3+\\frac{1}{2}dx^4\\right]_\\mathrm{xtart}^\\mathrm{xend}\n",
    "\\end{equation} considering the interval $[x_\\mathrm{start},x_\\mathrm{end}]$ may go across several knot-intervals $[x_k,x_{k+1}]$\n",
    "- For each of the considered boundary conditions:\n",
    "  - Build the corresponding system of linear equations in $y_k''$ (matrix $\\mathbf{A}$ and vector ${b}$)\n",
    "  - Solve for the $y_k''$ (this notebook uses the `numpy.linalg.solve()` function)\n",
    "  - Compute the spline coefficents $a_k,b_k,c_k,d_k$ (here we store them in a Python dictionary for later comparison)\n",
    "- Plot the data points and the interpolating splines as well as the spline derivative (to get a feel for the acceleration values)\n",
    "  - We convert the acceleration into g force by dividing by Earth's gravitational acceleration which is approx. $9.81\\;m/s^2$\n",
    "- Finally, the questions are directly addressed by using the functions `S(x, a, b, c, d, xk)`, `Sp(x, b, c, d, xk)`, and `Sint(xstart, xend, a, b, c, d, xk)` with the values in question\n",
    "\n",
    "© T. I. Maindl\n"
   ]
  },
  {
   "cell_type": "markdown",
   "metadata": {},
   "source": [
    "## Preamble"
   ]
  },
  {
   "cell_type": "markdown",
   "metadata": {},
   "source": [
    "First, import the required modules"
   ]
  },
  {
   "cell_type": "code",
   "execution_count": 17,
   "metadata": {
    "collapsed": true
   },
   "outputs": [],
   "source": [
    "import numpy as np                # used for vectors and matrices as well as for solving the linear system of equations\n",
    "import matplotlib.pyplot as plt   # used for plotting the results"
   ]
  },
  {
   "cell_type": "markdown",
   "metadata": {},
   "source": [
    "Now, enter the data..."
   ]
  },
  {
   "cell_type": "code",
   "execution_count": 18,
   "metadata": {
    "scrolled": true
   },
   "outputs": [
    {
     "name": "stdout",
     "output_type": "stream",
     "text": [
      "[ 10.    5.    5.    2.5   7.5]\n"
     ]
    }
   ],
   "source": [
    "xk = np.array( [0.,  10.,    15.,    20.,    22.5,   30.  ] ) # the timestamps are the knots xk\n",
    "yk = np.array( [0., 227.04, 362.78, 517.35, 602.97, 901.67] ) # the measured velocity values are the yk\n",
    "n = len(xk) - 1                                               # there are n+1 data points\n",
    "hk = np.array( [ xk[i+1]-xk[i] for i in range(n) ] )          # hk is a vector that holds the interval lengths\n",
    "print(hk)"
   ]
  },
  {
   "cell_type": "markdown",
   "metadata": {},
   "source": [
    "...and define the boundary conditions:"
   ]
  },
  {
   "cell_type": "code",
   "execution_count": 19,
   "metadata": {
    "collapsed": true
   },
   "outputs": [],
   "source": [
    "ypp0_gn = 0.0                              # generalized natural spline boundary conditions\n",
    "yppn_gn = 0.0\n",
    "\n",
    "yp0_cl  = (yk[1]-yk[0])/(xk[1]-xk[0])      # clamped spline boundary conditions (guessed from data)\n",
    "ypn_cl  = (yk[-1]-yk[-2])/(xk[-1]-xk[-2])\n",
    "\n",
    "# note that there are no boundary condition values to choose for not-a-knot"
   ]
  },
  {
   "cell_type": "markdown",
   "metadata": {},
   "source": [
    "## Define functions for later use\n",
    "\\begin{equation}\n",
    "a_k=y_k,\\quad\n",
    "b_k=\\frac{y_{k+1}-y_k}{h_k}-\\frac{2y''_k+y''_{k+1}}{6}h_k,\\quad\n",
    "c_k=\\frac{y''_k}{2},\\quad\n",
    "d_k=\\frac{y''_{k+1}-y''_k}{6h_k}\n",
    "\\end{equation}"
   ]
  },
  {
   "cell_type": "code",
   "execution_count": 20,
   "metadata": {
    "collapsed": true
   },
   "outputs": [],
   "source": [
    "def abcd(yk, hk, yppk):\n",
    "    \"\"\" Return the spline coefficients ak, bk, ck, dk as a 4-tuple consisting of the coefficient vectors\n",
    "        Input: vectors yk, hk, and yppk = y_k''\n",
    "    \"\"\"\n",
    "    ak = yk[:len(hk)]\n",
    "    bk = np.array( [ (yk[i+1]-yk[i])/hk[i] - (2.*yppk[i]+yppk[i+1])*hk[i]/6. for i in range(len(hk)) ] )\n",
    "    ck = yppk[:len(hk)]*0.5\n",
    "    dk = np.array( [ (yppk[i+1]-yppk[i])/hk[i]/6. for i in range(len(hk)) ] )\n",
    "    return (ak, bk, ck, dk)"
   ]
  },
  {
   "cell_type": "markdown",
   "metadata": {},
   "source": [
    "\\begin{align}\n",
    "S_k(x)=a_k+b_k(x-x_k)+c_k(x-x_k)^2+d_k(x-x_k)^3,\\quad k=0,\\ldots n-1\n",
    "\\end{align}"
   ]
  },
  {
   "cell_type": "code",
   "execution_count": 21,
   "metadata": {
    "collapsed": true
   },
   "outputs": [],
   "source": [
    "def S(x, a, b, c, d, xk):\n",
    "    \"\"\" Return the spline S(x) evaluated at x\n",
    "        Input: the coefficient vectors a, b, c, d and the knots xk\n",
    "    \"\"\"\n",
    "    i=0\n",
    "    while i<len(xk)-1 and x>=xk[i]: # find the interval that contains x\n",
    "        i+=1\n",
    "    i-=1\n",
    "    dx = x-xk[i]\n",
    "    return a[i]+dx*(b[i]+dx*(c[i]+dx*d[i])) # note Horner's method for computational efficiency: a+x*(b+x*(c+x*d))"
   ]
  },
  {
   "cell_type": "markdown",
   "metadata": {},
   "source": [
    "\\begin{align}\n",
    "S'_k(x)=\\frac{\\mathrm{d}}{\\mathrm{d}x}S_k(x)=b_k+2c_k(x-x_k)+3d_k(x-x_k)^2,\\quad k=0,\\ldots n-1\n",
    "\\end{align}"
   ]
  },
  {
   "cell_type": "code",
   "execution_count": 22,
   "metadata": {
    "collapsed": true
   },
   "outputs": [],
   "source": [
    "def Sp(x, b, c, d, xk):\n",
    "    \"\"\" Return the first derivative of the spline S'(x) evaluated at x\n",
    "        Input: the coefficient vectors b, c, d and the knots xk\n",
    "    \"\"\"\n",
    "    i=0\n",
    "    while i<len(xk)-1 and x>=xk[i]: # find the interval that contains x\n",
    "        i+=1\n",
    "    i-=1\n",
    "    dx = x-xk[i]\n",
    "    return b[i]+dx*(2.*c[i]+dx*3.*d[i]) # note Horner's method for computational efficiency: b+x*(2*c+x*3*d)"
   ]
  },
  {
   "cell_type": "markdown",
   "metadata": {},
   "source": [
    "\\begin{align}\n",
    "S''_k(x)=\\frac{\\mathrm{d}^2}{\\mathrm{d}x^2}S_k(x)=2c_k+6d_k(x-x_k),\\quad k=0,\\ldots n-1\n",
    "\\end{align}"
   ]
  },
  {
   "cell_type": "code",
   "execution_count": 23,
   "metadata": {
    "collapsed": true
   },
   "outputs": [],
   "source": [
    "def Spp(x, c, d, xk):\n",
    "    \"\"\" Return the second derivative of the spline S''(x) evaluated at x\n",
    "        Input: the coefficient vectors c, d and the knots xk\n",
    "    \"\"\"\n",
    "    i=0\n",
    "    while i<len(xk)-1 and x>=xk[i]: # find the interval that contains x\n",
    "        i+=1\n",
    "    i-=1\n",
    "    return 2.*c[i]+6.*d[i]*(x-xk[i]) # note Horner's method for computational efficiency: 2*c+x*6*d"
   ]
  },
  {
   "cell_type": "markdown",
   "metadata": {},
   "source": [
    "\\begin{equation}\n",
    "\\int_{x_\\mathrm{start}}^{x_\\mathrm{end}}S(x)\\,\\mathrm{d}x = \\left[ ax+\\frac{1}{2}bx^2+\\frac{1}{3}cx^3+\\frac{1}{2}dx^4\\right]_{x_\\mathrm{start}}^{x_\\mathrm{end}}\n",
    "\\end{equation}\n",
    "Caution: segments need to be added piece by piece..."
   ]
  },
  {
   "cell_type": "code",
   "execution_count": 24,
   "metadata": {
    "collapsed": true
   },
   "outputs": [],
   "source": [
    "def Sint(xstart, xend, a, b, c, d, xk):\n",
    "    \"\"\" Return the definite integral of the spline between x=xstart and x=xend\n",
    "        Input: the interval [xstart, xend], the spline coefficients a, b, c, d, and the knots xk\n",
    "    \"\"\"\n",
    "    def Sintvalue(x, a, b, c, d):               # evaluate the integral of S at x (note there's no (x-xk) here!)\n",
    "        return x*(a + x*(0.5*b + x*(1./3.*c + 0.25*d*x)))\n",
    "    i, j = 0, 0\n",
    "    while i<len(xk)-1 and xstart>=xk[i]:        # i = interval (k-value) of xtart\n",
    "        i+=1\n",
    "    i-=1\n",
    "    while j<len(xk)-1 and xend>=xk[j]:          # j = interval (k-value) of xend\n",
    "        j+=1\n",
    "    j-=1\n",
    "    value = 0.\n",
    "    x1 = xstart\n",
    "    if i<j:     # in this case, xend is at a later interval, so first integrate until end of i-th interval xk[i+1]\n",
    "        value = Sintvalue(xk[i+1]-xk[i],a[i],b[i],c[i],d[i]) - Sintvalue(x1-xk[i],a[i],b[i],c[i],d[i])\n",
    "        x1 = xk[i+1]  # update starting x-value for next integration segment\n",
    "        i+=1          # update interval index i for next integration segment\n",
    "    while i<j:\n",
    "        value += Sintvalue(xk[i+1]-xk[i],a[i],b[i],c[i],d[i]) # note that Sintvalue(xk[i]-xk[i], a, b, c, d) = 0\n",
    "        x1 = xk[i+1]  # update starting x-value for next integration segment\n",
    "        i+=1          # update interval index i for next integration segment\n",
    "    # in the last interval j (i=j now), we need to integrate from xk[j] to xend:\n",
    "    value += Sintvalue(xend-xk[i],a[i],b[i],c[i],d[i])        # note that Sintvalue(xk[i]-xk[i], a, b, c, d) = 0\n",
    "    return value"
   ]
  },
  {
   "cell_type": "markdown",
   "metadata": {},
   "source": [
    "## Calculate splines for different boundary conditions\n",
    "### Initialize dictionary\n",
    "The Python dictionary `sp_coef` will hold the spline coefficients for all considered boundary conditions. The following code cells will successively add to `sp_coef`."
   ]
  },
  {
   "cell_type": "code",
   "execution_count": 25,
   "metadata": {
    "collapsed": true
   },
   "outputs": [],
   "source": [
    "sp_coef = {}"
   ]
  },
  {
   "cell_type": "markdown",
   "metadata": {},
   "source": [
    "### Generalized natural spline\n",
    "\\begin{equation}\n",
    "\\begin{pmatrix}\n",
    "2(h_0+h_1) & h_1 \\\\\n",
    "h_1        & 2(h_1+h_2) & h_2 \\\\\n",
    "           & h_2        & 2(h_2+h_3)  & h_3 \\\\\n",
    "           & \\hfill\\ddots     & \\hfill\\ddots      & \\hfill\\ddots \\\\\n",
    "           &            & h_{n-3}     & 2(h_{n-3}+h_{n-2}) & h_{n-2}\\\\\n",
    "           &            &             & h_{n-2}            & 2(h_{n-2}+h_{n-1})\n",
    "\\end{pmatrix}\\cdot\\begin{pmatrix}\n",
    "y''_1\\\\y''_2\\\\y''_3\\\\\\vdots\\\\y''_{n-2}\\\\y''_{n-1}\n",
    "\\end{pmatrix}\\; =\\;\n",
    "\\begin{pmatrix}\n",
    "6\\left(\\frac{y_2-y_1}{h_1}-\\frac{y_1-y_0}{h_0}\\right)-h_0y''_0\\hfill\\\\\n",
    "6\\left(\\frac{y_3-y_2}{h_2}-\\frac{y_2-y_1}{h_1}\\right)\\hfill\\\\\n",
    "\\vdots\\\\\n",
    "6\\left(\\frac{y_n-y_{n-1}}{h_{n-1}}-\\frac{y_{n-1}-y_{n-2}}{h_{n-2}}\\right)-h_{n-1}y''_n\\hfill\n",
    "\\end{pmatrix}\n",
    "\\end{equation}"
   ]
  },
  {
   "cell_type": "code",
   "execution_count": 26,
   "metadata": {},
   "outputs": [
    {
     "name": "stdout",
     "output_type": "stream",
     "text": [
      "[[ 30.    5.    0.    0. ]\n",
      " [  5.   20.    5.    0. ]\n",
      " [  0.    5.   15.    2.5]\n",
      " [  0.    0.    2.5  20. ]] x y'' = [ 26.664  22.596  20.004  33.472]\n",
      "\n",
      "Solution for y''_0 ... y''_n: [ 0.          0.76696772  0.73099371  0.82825746  1.57006782  0.        ]\n"
     ]
    }
   ],
   "source": [
    "ypp0, yppn = ypp0_gn, yppn_gn # boundary values of y''\n",
    "\n",
    "Agn = np.zeros((n-1,n-1))     # initialize the (n-1) x (n-1) matrix A\n",
    "bgn = np.zeros(n-1)           # ...and the vector b\n",
    "                              # note that Python begins counting at 0: the 'first' matrix element is A[0,  0]\n",
    "                              #                                        the 'last'  matrix element is A[n-2,n-2]\n",
    "\n",
    "# calculate the matrix and vector coefficients\n",
    "for i in range(n-1):\n",
    "    Agn[i,i] = 2*(hk[i]+hk[i+1])\n",
    "    if i>0:   Agn[i,i-1] = hk[i]\n",
    "    if i<n-2: Agn[i,i+1] = hk[i+1]\n",
    "    bgn[i] = 6*( (yk[i+2]-yk[i+1])/hk[i+1] - (yk[i+1]-yk[i])/hk[i] )\n",
    "bgn[0]  -= hk[0]  *ypp0\n",
    "bgn[-1] -= hk[n-1]*yppn\n",
    "\n",
    "print(Agn, \"x y'' =\", str(bgn))              # print the system of linear equations\n",
    "\n",
    "z = np.linalg.solve(Agn,bgn)                 # solve the system\n",
    "ypp = np.insert(z,(0,len(z)),(ypp0,yppn))    # build the y'' vector\n",
    "\n",
    "print(\"\\nSolution for y''_0 ... y''_n:\",ypp) # print the solution for the n y'' values\n",
    "\n",
    "sp_coef[\"natural\"] = abcd(yk, hk, ypp)       # calculate the spline coefficients and add them to dictionary"
   ]
  },
  {
   "cell_type": "markdown",
   "metadata": {},
   "source": [
    "### Clamped spline\n",
    "\\begin{equation}\n",
    "\\begin{pmatrix}\n",
    "(\\frac{3}{2}h_0+2h_1) & h_1 \\\\\n",
    "h_1        & 2(h_1+h_2) & h_2 \\\\\n",
    "& h_2        & 2(h_2+h_3)  & h_3 \\\\\n",
    "& \\hfill\\ddots     & \\hfill\\ddots      & \\hfill\\ddots \\\\\n",
    "&            & h_{n-3}     & 2(h_{n-3}+h_{n-2}) & h_{n-2}\\\\\n",
    "&            &             & h_{n-2}            & (2h_{n-2}+\\frac{3}{2}h_{n-1})\n",
    "\\end{pmatrix}\\cdot\\begin{pmatrix}\n",
    "y''_1\\\\y''_2\\\\y''_3\\\\\\vdots\\\\y''_{n-2}\\\\y''_{n-1}\n",
    "\\end{pmatrix}\\;=\\;\n",
    "\\begin{pmatrix}\n",
    "6\\left(\\frac{y_2-y_1}{h_1}-\\frac{y_1-y_0}{h_0}\\right)-3\\left(\\frac{y_1-y_0}{h_0}-y'_0\\right)\\hfill\\\\\n",
    "6\\left(\\frac{y_3-y_2}{h_2}-\\frac{y_2-y_1}{h_1}\\right)\\hfill\\\\\n",
    "\\vdots\\\\\n",
    "6\\left(\\frac{y_n-y_{n-1}}{h_{n-1}}-\\frac{y_{n-1}-y_{n-2}}{h_{n-2}}\\right)-3\\left(y'_n-\\frac{y_n-y_{n-1}}{h_{n-1}}\\right)\\hfill\n",
    "\\end{pmatrix}\n",
    "\\end{equation}\n",
    "\n",
    "After solving, $y''_0$ and $y''_n$ are\n",
    "\\begin{equation}\n",
    "y''_0=\\frac{3}{h_0}\\left(\\frac{y_1-y_0}{h_0}-y'_0\\right)-\\frac{1}{2}y''_1,\\qquad y''_n=\\frac{3}{h_{n-1}}\\left(y'_n-\\frac{y_n-y_{n-1}}{h_{n-1}}\\right)-\\frac{1}{2}y''_{n-1}\n",
    "\\end{equation}\n"
   ]
  },
  {
   "cell_type": "code",
   "execution_count": 27,
   "metadata": {},
   "outputs": [
    {
     "name": "stdout",
     "output_type": "stream",
     "text": [
      "[[ 25.     5.     0.     0.  ]\n",
      " [  5.    20.     5.     0.  ]\n",
      " [  0.     5.    15.     2.5 ]\n",
      " [  0.     0.     2.5   16.25]] x y'' =  [ 26.664  22.596  20.004  33.472]\n",
      "\n",
      "Solution for y''_0 ... y''_n: [-0.46282435  0.92564871  0.70455647  0.77532542  1.94053455 -0.97026728]\n"
     ]
    }
   ],
   "source": [
    "yp0, ypn = yp0_cl, ypn_cl  # boundary values of y'\n",
    "\n",
    "Acl = np.zeros((n-1,n-1))  # initialize the (n-1) x (n-1) matrix A\n",
    "bcl = np.zeros(n-1)        # ...and the vector b\n",
    "                           # note that Python begins counting at 0: the 'first' matrix element is A[0,  0]\n",
    "                           #                                        the 'last'  matrix element is A[n-2,n-2]\n",
    "        \n",
    "# calculate the matrix and vector coefficients\n",
    "Acl[0,:2]   = 1.5*hk[0]+2.*hk[1], hk[1]\n",
    "Acl[-1,-2:] = hk[n-2],            2.*hk[n-2]+1.5*hk[n-1]\n",
    "bcl[0]      = 6.*( (yk[2]-yk[1])  /hk[1]   - (yk[1]  -yk[0])  /hk[0]   ) - 3.*( (yk[1]-yk[0])/hk[0] - yp0     )\n",
    "bcl[-1]     = 6.*( (yk[n]-yk[n-1])/hk[n-1] - (yk[n-1]-yk[n-2])/hk[n-2] ) - 3.*( ypn - (yk[n]-yk[n-1])/hk[n-1] )\n",
    "for i in range(1,n-2):\n",
    "    Acl[i,i-1:i+2] = hk[i], 2.*(hk[i]+hk[i+1]), hk[i+1]\n",
    "    bcl[i] = 6.*( (yk[i+2]-yk[i+1])/hk[i+1] - (yk[i+1]-yk[i])/hk[i] )\n",
    "    \n",
    "print(Acl, \"x y'' = \", str(bcl)) # print the system of linear equations\n",
    "\n",
    "z = np.linalg.solve(Acl,bcl)     # solve the system\n",
    "\n",
    "ypp0 = 3./hk[0]*  ( (yk[1]-yk[0])/hk[0] - yp0 )     - 0.5*z[0]   # calculate y''_0\n",
    "yppn = 3./hk[n-1]*( ypn - (yk[n]-yk[n-1])/hk[n-1] ) - 0.5*z[-1]  # calculate y''_n\n",
    "\n",
    "ypp = np.insert(z,(0,len(z)),(ypp0,yppn))                        # build the y'' vector\n",
    "\n",
    "print(\"\\nSolution for y''_0 ... y''_n:\",ypp)  # print the solution for the n y'' values\n",
    "\n",
    "sp_coef[\"clamped\"] = abcd(yk, hk, ypp)        # calculate the spline coefficients and add them to dictionary"
   ]
  },
  {
   "cell_type": "markdown",
   "metadata": {},
   "source": [
    "### Not-a-knot\n",
    "Note that in this case no boundary condition values can be set.\n",
    "\\begin{equation}\n",
    "\\begin{pmatrix}\n",
    "\\left.3h_{0}\\!+\\!2h_1\\!+\\!\\frac{h_0^2}{h_1}\\right. & \\left(h_1-\\frac{h_0^2}{h_1}\\right) \\\\\n",
    "h_1        & 2(h_1+h_2) & h_2 \\\\\n",
    "& h_2        & 2(h_2\\!+\\!h_3)  & h_3 \\\\\n",
    "& \\hfill\\ddots     & \\hfill\\ddots      & \\hfill\\ddots \\\\\n",
    "&            & h_{n-3}     & 2(h_{n-3}\\!+\\!h_{n-2}) & h_{n-2}\\\\\n",
    "&            &             & \\left(h_{n-2}-\\frac{h_{n-1}^2}{h_{n-2}}\\right) & \\left.2h_{n-2}\\!+\\!3h_{n-1}\\!+\\!\\frac{h_{n-1}^2}{h_{n-2}}\\right.\n",
    "\\end{pmatrix}\\cdot\\begin{pmatrix}\n",
    "y''_1\\\\y''_2\\\\y''_3\\\\\\vdots\\\\y''_{n-2}\\\\y''_{n-1}\n",
    "\\end{pmatrix}\\;=\\;\\begin{pmatrix}\n",
    "6\\left(\\frac{y_2-y_1}{h_1}-\\frac{y_1-y_0}{h_0}\\right)\\hfill\\\\\n",
    "6\\left(\\frac{y_3-y_2}{h_2}-\\frac{y_2-y_1}{h_1}\\right)\\hfill\\\\\n",
    "\\vdots\\\\\n",
    "6\\left(\\frac{y_n-y_{n-1}}{h_{n-1}}-\\frac{y_{n-1}-y_{n-2}}{h_{n-2}}\\right)\\hfill\n",
    "\\end{pmatrix}\n",
    "\\end{equation}\n",
    "\n",
    "After solving, $y''_0$ and $y''_n$ are\n",
    "\\begin{equation}\n",
    "y''_0 = y''_1 - \\frac{h_0}{h_1}(y''_2-y''_1),\\qquad y''_n = y''_{n-1} + \\frac{h_{n-1}}{h_{n-2}}(y''_{n-1}-y''_{n-2})\n",
    "\\end{equation}\n",
    "\n"
   ]
  },
  {
   "cell_type": "code",
   "execution_count": 28,
   "metadata": {},
   "outputs": [
    {
     "name": "stdout",
     "output_type": "stream",
     "text": [
      "[[ 60.  -15.    0.    0. ]\n",
      " [  5.   20.    5.    0. ]\n",
      " [  0.    5.   15.    2.5]\n",
      " [  0.    0.  -20.   50. ]] x y'' =  [ 26.664  22.596  20.004  33.472]\n",
      "\n",
      "Solution for y''_0 ... y''_n: [ 0.40331111  0.63037778  0.74391111  0.91317778  1.03471111  1.39931111]\n"
     ]
    }
   ],
   "source": [
    "Anak = np.zeros((n-1,n-1))  # initialize the (n-1) x (n-1) matrix A\n",
    "bnak = np.zeros(n-1)        # ...and the vector b\n",
    "                            # note that Python begins counting at 0: the 'first' matrix element is A[0,  0]\n",
    "                            #                                        the 'last'  matrix element is A[n-2,n-2]\n",
    "        \n",
    "# calculate the matrix and vector coefficients\n",
    "Anak[0,:2]   = 3.*hk[0]+2.*hk[1]+hk[0]*hk[0]/hk[1], hk[1]-hk[0]*hk[0]/hk[1]\n",
    "Anak[-1,-2:] = hk[n-2]-hk[n-1]*hk[n-1]/hk[n-2],     2.*hk[n-2]+3.*hk[n-1]+hk[n-1]*hk[n-1]/hk[n-2]\n",
    "for i in range(n-1):\n",
    "    if i>0 and i<n-2:\n",
    "        Anak[i,i-1:i+2] = hk[i], 2.*(hk[i]+hk[i+1]), hk[i+1]\n",
    "    bnak[i] = 6.*( (yk[i+2]-yk[i+1])/hk[i+1] - (yk[i+1]-yk[i])/hk[i] )\n",
    "    \n",
    "print(Anak, \"x y'' = \", str(bnak)) # print the system of linear equations\n",
    "\n",
    "z = np.linalg.solve(Anak,bnak)     # solve the system\n",
    "\n",
    "ypp0 = z[0]  - hk[0]/hk[1]*    ( z[1]-z[0] )   # calculate y''_0\n",
    "yppn = z[-1] + hk[n-1]/hk[n-2]*( z[-1]-z[-2] ) # calculate y''_n\n",
    "\n",
    "ypp = np.insert(z,(0,len(z)),(ypp0,yppn))      # build the y'' vector\n",
    "\n",
    "print(\"\\nSolution for y''_0 ... y''_n:\",ypp)   # print the solution for the n y'' values\n",
    "\n",
    "sp_coef[\"not-a-knot\"] = abcd(yk, hk, ypp)      # calculate the spline coefficients and add them to dictionary"
   ]
  },
  {
   "cell_type": "markdown",
   "metadata": {},
   "source": [
    "## Visualize the results"
   ]
  },
  {
   "cell_type": "code",
   "execution_count": 29,
   "metadata": {
    "collapsed": true
   },
   "outputs": [],
   "source": [
    "plt.rcParams[\"figure.figsize\"] = (15,7) # make the plot area wider to accomodate two plots side-by-side\n",
    "\n",
    "xkplot = np.linspace(xk[0],xk[-1], 600) # create 600 sample points for the plots\n",
    "\n",
    "# for each of the boundary conditions, evaluate the spline and its derivative at the xkplot sample points\n",
    "\n",
    "a, b, c, d = sp_coef[\"natural\"]                     # copy the right spline coefficients into the 4-tuple (a,b,c,d)\n",
    "spline_gn  = [S(x,a,b,c,d,xk) for x in xkplot]      # evaluate the spline at each of the sample points for the plot\n",
    "splinep_gn = [Sp(x,b,c,d,xk)/9.81 for x in xkplot]  # convert acceleration from m/s^2 to g\n",
    "\n",
    "a, b, c, d = sp_coef[\"clamped\"]                     # copy the right spline coefficients into the 4-tuple (a,b,c,d)\n",
    "spline_cl  = [S(x,a,b,c,d,xk) for x in xkplot]      # evaluate the spline at each of the sample points for the plot\n",
    "splinep_cl = [Sp(x,b,c,d,xk)/9.81 for x in xkplot]  # convert acceleration from m/s^2 to g\n",
    "\n",
    "a, b, c, d  = sp_coef[\"not-a-knot\"]                 # copy the right spline coefficients into the 4-tuple (a,b,c,d)\n",
    "spline_nak  = [S(x,a,b,c,d,xk) for x in xkplot]     # evaluate the spline at each of the sample points for the plot\n",
    "splinep_nak = [Sp(x,b,c,d,xk)/9.81 for x in xkplot] # convert acceleration from m/s^2 to g"
   ]
  },
  {
   "cell_type": "code",
   "execution_count": 31,
   "metadata": {},
   "outputs": [
    {
     "data": {
      "image/png": "[encoded data removed]",
      "text/plain": [
       "<matplotlib.figure.Figure at 0x1138f0b38>"
      ]
     },
     "metadata": {},
     "output_type": "display_data"
    }
   ],
   "source": [
    "# first, plot the splines (velocity)\n",
    "\n",
    "ax = plt.subplot(1,2,1)         # 1x2 subplot layout, activate plot #1\n",
    "\n",
    "ax.set_title(\"Cubic spline interpolation of velocity\")\n",
    "ax.set_xlabel(\"t [s]\")\n",
    "ax.set_ylabel(\"v [m/s]\")\n",
    "ax.grid(linestyle=\"dotted\")\n",
    "\n",
    "ax.plot(xkplot,spline_gn, label=\"natural\")\n",
    "ax.plot(xkplot,spline_cl, label=\"clamped\")\n",
    "ax.plot(xkplot,spline_nak, label=\"not-a-knot\")\n",
    "ax.plot(xk,yk,\"o\", label=\"knots\")\n",
    "\n",
    "ax.legend(loc=\"upper center\")\n",
    "\n",
    "# now, plot the spline derivatives (= g force)\n",
    "\n",
    "ax = plt.subplot(1,2,2)         # 1x2 subplot layout, activate plot #2\n",
    "\n",
    "ax.plot(xkplot,splinep_gn, label=\"natural\")\n",
    "ax.plot(xkplot,splinep_cl, label=\"clamped\")\n",
    "ax.plot(xkplot,splinep_nak, label=\"not-a-knot\")\n",
    "\n",
    "ax.set_title(\"Acceleration (g force) as spline derivative\")\n",
    "ax.set_xlabel(\"t [s]\")\n",
    "ax.set_ylabel(\"a [g]\")\n",
    "ax.legend(loc=\"upper center\")\n",
    "ax.grid(linestyle=\"dotted\")\n",
    "\n",
    "plt.show()"
   ]
  },
  {
   "cell_type": "markdown",
   "metadata": {},
   "source": [
    "## Answer the questions of the exercise"
   ]
  },
  {
   "cell_type": "code",
   "execution_count": 32,
   "metadata": {},
   "outputs": [
    {
     "name": "stdout",
     "output_type": "stream",
     "text": [
      "Spline type: natural\n",
      "\tvelocity at t=16 s:                392.154201584\n",
      "\tg force at t=16 s:                 3.03223065107\n",
      "\tDistance between t=11 s and t=16s: 1604.35568402\n",
      "Spline type: clamped\n",
      "\tvelocity at t=16 s:                392.228271903\n",
      "\tg force at t=16 s:                 3.03825362558\n",
      "\tDistance between t=11 s and t=16s: 1603.80268799\n",
      "Spline type: not-a-knot\n",
      "\tvelocity at t=16 s:                392.070764444\n",
      "\tg force at t=16 s:                 3.02487303205\n",
      "\tDistance between t=11 s and t=16s: 1604.86949315\n"
     ]
    }
   ],
   "source": [
    "for t in sp_coef.keys():\n",
    "    a, b, c, d = sp_coef[t]\n",
    "    print(\"Spline type:\",t)\n",
    "    print(\"\\tvelocity at t=16 s:               \", S(16,a,b,c,d,xk))         # spline value at x = 16 s\n",
    "    print(\"\\tg force at t=16 s:                \", Sp(16,b,c,d,xk)/9.81)     # spline derivative value at x = 16 s\n",
    "    print(\"\\tDistance between t=11 s and t=16s:\", Sint(11,16,a,b,c,d,xk))   # integrate spline between x=11s and x=16s"
   ]
  },
  {
   "cell_type": "code",
   "execution_count": 33,
   "metadata": {},
   "outputs": [
    {
     "data": {
      "text/plain": [
       "{'clamped': (array([   0.  ,  227.04,  362.78,  517.35,  602.97]),\n",
       "  array([ 22.704     ,  25.01812177,  29.0936347 ,  32.79333942,  36.18816438]),\n",
       "  array([-0.23141218,  0.46282435,  0.35227823,  0.38766271,  0.97026728]),\n",
       "  array([ 0.02314122, -0.00736974,  0.00235896,  0.07768061, -0.06468449])),\n",
       " 'natural': (array([   0.  ,  227.04,  362.78,  517.35,  602.97]),\n",
       "  array([ 21.42572047,  25.26055905,  29.00546261,  32.90359052,  35.90149712]),\n",
       "  array([ 0.        ,  0.38348386,  0.36549685,  0.41412873,  0.78503391]),\n",
       "  array([ 0.0127828 , -0.00119913,  0.00324213,  0.04945402, -0.0348904 ])),\n",
       " 'not-a-knot': (array([   0.  ,  227.04,  362.78,  517.35,  602.97]),\n",
       "  array([ 20.309     ,  25.47744444,  28.91316667,  33.05588889,  35.49075   ]),\n",
       "  array([ 0.20165556,  0.31518889,  0.37195556,  0.45658889,  0.51735556]),\n",
       "  array([ 0.00378444,  0.00378444,  0.00564222,  0.00810222,  0.00810222]))}"
      ]
     },
     "execution_count": 33,
     "metadata": {},
     "output_type": "execute_result"
    }
   ],
   "source": [
    "sp_coef"
   ]
  },
  {
   "cell_type": "code",
   "execution_count": null,
   "metadata": {
    "collapsed": true
   },
   "outputs": [],
   "source": []
  }
 ],
 "metadata": {
  "kernelspec": {
   "display_name": "Python 3",
   "language": "python",
   "name": "python3"
  },
  "language_info": {
   "codemirror_mode": {
    "name": "ipython",
    "version": 3
   },
   "file_extension": ".py",
   "mimetype": "text/x-python",
   "name": "python",
   "nbconvert_exporter": "python",
   "pygments_lexer": "ipython3",
   "version": "3.9.0+"
  }
 },
 "nbformat": 4,
 "nbformat_minor": 2
}
